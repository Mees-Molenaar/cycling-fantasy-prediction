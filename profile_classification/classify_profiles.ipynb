{
  "nbformat": 4,
  "nbformat_minor": 0,
  "metadata": {
    "colab": {
      "name": "classify_profiles.ipynb",
      "provenance": []
    },
    "kernelspec": {
      "name": "python3",
      "display_name": "Python 3"
    },
    "accelerator": "GPU"
  },
  "cells": [
    {
      "cell_type": "markdown",
      "metadata": {
        "id": "Zo2KS-VZTWNI",
        "colab_type": "text"
      },
      "source": [
        "# Predict the profile icon\n",
        "\n",
        "The model trained for the profile prediction is a ResNet 18 deep layer, which is trained in the profile_icon_classification notebook. We predict profile icons using the Pytorch library to fill in missing information."
      ]
    },
    {
      "cell_type": "code",
      "metadata": {
        "id": "TJyTQnu_TV5-",
        "colab_type": "code",
        "colab": {}
      },
      "source": [
        "# import libraries\n",
        "import os\n",
        "import torch\n",
        "import torchvision\n",
        "import torchvision.transforms as transforms\n",
        "import torch.nn as nn\n",
        "import matplotlib.pyplot as plt\n",
        "import numpy as np\n",
        "import pandas as pd\n",
        "from PIL import Image\n",
        "import torch.optim as optim\n",
        "import matplotlib\n",
        "\n",
        "%matplotlib inline"
      ],
      "execution_count": 8,
      "outputs": []
    },
    {
      "cell_type": "code",
      "metadata": {
        "id": "l6nN0ZgTTLQr",
        "colab_type": "code",
        "colab": {}
      },
      "source": [
        "# And set the device for GPU usage\n",
        "if torch.cuda.is_available():\n",
        "  device = torch.device(\"cuda\")\n",
        "else:\n",
        "  device = torch.device(\"cpu\")"
      ],
      "execution_count": null,
      "outputs": []
    },
    {
      "cell_type": "code",
      "metadata": {
        "id": "hJTKITMQTsfY",
        "colab_type": "code",
        "colab": {}
      },
      "source": [
        "# Set seeding\n",
        "torch.manual_seed(420)\n",
        "np.random.seed(420)"
      ],
      "execution_count": null,
      "outputs": []
    },
    {
      "cell_type": "code",
      "metadata": {
        "id": "7K_MIOpsTuPB",
        "colab_type": "code",
        "colab": {
          "base_uri": "https://localhost:8080/",
          "height": 124
        },
        "outputId": "553f1a62-2433-48b5-90e3-b80077cbd6a4"
      },
      "source": [
        "# Connect google drive to notebook\n",
        "%load_ext autoreload\n",
        "%autoreload 2\n",
        "import sys\n",
        "from google.colab import drive\n",
        "from pathlib import Path\n",
        "\n",
        "\n",
        "drive.mount('content/', force_remount=True)\n",
        "base = Path('/content/content/My Drive/TdF/Profiles')\n",
        "sys.path.append(str(base))"
      ],
      "execution_count": null,
      "outputs": [
        {
          "output_type": "stream",
          "text": [
            "Go to this URL in a browser: https://accounts.google.com/o/oauth2/auth?client_id=947318989803-6bn6qk8qdgf4n4g3pfee6491hc0brc4i.apps.googleusercontent.com&redirect_uri=urn%3aietf%3awg%3aoauth%3a2.0%3aoob&scope=email%20https%3a%2f%2fwww.googleapis.com%2fauth%2fdocs.test%20https%3a%2f%2fwww.googleapis.com%2fauth%2fdrive%20https%3a%2f%2fwww.googleapis.com%2fauth%2fdrive.photos.readonly%20https%3a%2f%2fwww.googleapis.com%2fauth%2fpeopleapi.readonly&response_type=code\n",
            "\n",
            "Enter your authorization code:\n",
            "··········\n",
            "Mounted at content/\n"
          ],
          "name": "stdout"
        }
      ]
    },
    {
      "cell_type": "code",
      "metadata": {
        "id": "w9qYIMcBTwLh",
        "colab_type": "code",
        "colab": {}
      },
      "source": [
        "# The classes we have\n",
        "classes = ['p1', 'p2', 'p3', 'p4', 'p5']"
      ],
      "execution_count": null,
      "outputs": []
    },
    {
      "cell_type": "markdown",
      "metadata": {
        "id": "eR9VeRrqmQdE",
        "colab_type": "text"
      },
      "source": [
        "## Functions used"
      ]
    },
    {
      "cell_type": "code",
      "metadata": {
        "id": "Hey3SaVgmSZs",
        "colab_type": "code",
        "colab": {}
      },
      "source": [
        "# This function reverses the Pytorch.transforms.Normalize(), which is needed to show the tensor as an image.\n",
        "def reverse_normalization(tensor_in, mean, std):\n",
        "  std = torch.FloatTensor(std)\n",
        "  mean = torch.FloatTensor(mean)\n",
        "  tensor_out = torch.zeros([tensor_in.shape[0], tensor_in.shape[1], tensor_in.shape[2]], dtype=torch.float)\n",
        "  tensor_out[0] = tensor_in[0] * std[0] + mean[0]\n",
        "  tensor_out[1] = tensor_in[1] * std[1] + mean[1]\n",
        "  tensor_out[2] = tensor_in[2] * std[2] + mean[2]\n",
        "  return tensor_out"
      ],
      "execution_count": null,
      "outputs": []
    },
    {
      "cell_type": "code",
      "metadata": {
        "id": "lS19Wt2CmSDW",
        "colab_type": "code",
        "colab": {}
      },
      "source": [
        "# Show an image from the dataset\n",
        "def imshow(img):\n",
        "  normalised = reverse_normalization(img, mean =[0.485, 0.456, 0.406], std=[0.229, 0.224, 0.225])\n",
        "  out = normalised.numpy().transpose((1, 2, 0))\n",
        "  plt.imshow(out)"
      ],
      "execution_count": null,
      "outputs": []
    },
    {
      "cell_type": "code",
      "metadata": {
        "id": "CpDtGUoEmVNo",
        "colab_type": "code",
        "colab": {}
      },
      "source": [
        "# Show a number of random samples from the dataset\n",
        "# From this question: https://stackoverflow.com/questions/11159436/multiple-figures-in-a-single-window\n",
        "def show_bunch(dataset, number=5, column='profile_icon'):\n",
        "  bunch = torch.utils.data.RandomSampler(dataset, replacement=True, num_samples=number)\n",
        "  \n",
        "  rows = int(np.ceil(number / 5))\n",
        "  fig, axeslist = plt.subplots(ncols=5, nrows=rows, figsize=(20, 20))\n",
        "\n",
        "  for ind, data_index in enumerate(bunch):\n",
        "    image = dataset[data_index]['image']\n",
        "    normalised = reverse_normalization(image, mean =[0.485, 0.456, 0.406], std=[0.229, 0.224, 0.225])\n",
        "    img = normalised.numpy().transpose((1, 2, 0))\n",
        "    label = dataset[data_index][column]\n",
        "    axeslist.ravel()[ind].imshow(img)\n",
        "    axeslist.ravel()[ind].set_title(np.round(label.item(), 2))\n",
        "    axeslist.ravel()[ind].set_axis_off()\n",
        "\n",
        "  plt.tight_layout()"
      ],
      "execution_count": null,
      "outputs": []
    },
    {
      "cell_type": "code",
      "metadata": {
        "id": "CU4PV7qLou7j",
        "colab_type": "code",
        "colab": {}
      },
      "source": [
        "# Makes a new resnet18 model, which is not pretrained. The last linear layer is changed to ouput the same number of layers as classes.\n",
        "# Later the saved parameters are loaded in this model\n",
        "def new_model():\n",
        "  model = torchvision.models.resnet18(pretrained=False)\n",
        "  # Make the last linear layer equal to the dimension of classes\n",
        "  class_number = len(classes)\n",
        "  lin = model.fc\n",
        "\n",
        "  new_lin = nn.Sequential(\n",
        "      nn.Linear(lin.in_features, class_number, bias=True)\n",
        "  )\n",
        "\n",
        "  model.fc = new_lin\n",
        "  return model"
      ],
      "execution_count": null,
      "outputs": []
    },
    {
      "cell_type": "markdown",
      "metadata": {
        "id": "XeRvkwYGT5G7",
        "colab_type": "text"
      },
      "source": [
        "## Datasetclass\n",
        "\n"
      ]
    },
    {
      "cell_type": "code",
      "metadata": {
        "id": "ycemXJ6zT3TZ",
        "colab_type": "code",
        "colab": {}
      },
      "source": [
        "class ProfilesDataset(torch.utils.data.Dataset):\n",
        "  'Make a profiles dataset'\n",
        "  def __init__(self, df, root_dir, y_column, transform=None):\n",
        "    self.profiles_df = df\n",
        "    self.root_dir = root_dir\n",
        "    self.transform = transform\n",
        "    self.y_column = y_column\n",
        "\n",
        "  def __len__(self):\n",
        "    return len(self.profiles_df)\n",
        "\n",
        "  def __getitem__(self, idx):\n",
        "    if torch.is_tensor(idx):\n",
        "      idx = idx.tolist()\n",
        "\n",
        "    img_name = os.path.join(self.root_dir, self.profiles_df.iloc[idx]['img_name'])\n",
        "    image = Image.open(img_name)\n",
        "    profile_icon = self.profiles_df.iloc[idx][self.y_column]\n",
        "    df_idx = idx\n",
        "\n",
        "    sample = {'df_idx': df_idx, 'image': image, 'profile_icon': torch.tensor(profile_icon, dtype=torch.long)}\n",
        "\n",
        "    try:\n",
        "      if self.transform:\n",
        "        sample['image'] = self.transform(sample['image'])\n",
        "    except:\n",
        "      profile_race = self.profiles_df.iloc[idx]['race']\n",
        "      print(f'Deze geeft een error:{profile_race}')\n",
        "\n",
        "    return sample"
      ],
      "execution_count": null,
      "outputs": []
    },
    {
      "cell_type": "markdown",
      "metadata": {
        "id": "c_g0D54JmgeD",
        "colab_type": "text"
      },
      "source": [
        "## Transforms"
      ]
    },
    {
      "cell_type": "code",
      "metadata": {
        "id": "gsIFji04mfWX",
        "colab_type": "code",
        "colab": {}
      },
      "source": [
        "# Transforms that are used for the images. The images are resized, converted to a tensor and normalized.\n",
        "data_transforms = transforms.Compose([\n",
        "      transforms.Resize((256, 256)),\n",
        "      transforms.ToTensor(),\n",
        "      transforms.Normalize([0.485, 0.456, 0.406], [0.229, 0.224, 0.225])\n",
        "      ])"
      ],
      "execution_count": null,
      "outputs": []
    },
    {
      "cell_type": "markdown",
      "metadata": {
        "id": "dmL_TroImnmD",
        "colab_type": "text"
      },
      "source": [
        "## Load the samples"
      ]
    },
    {
      "cell_type": "code",
      "metadata": {
        "id": "O0KE9vEMnLQt",
        "colab_type": "code",
        "colab": {}
      },
      "source": [
        "# unzip the imgs\n",
        "!unzip -o -q '/content/content/My Drive/TdF/Profiles/more_data/imgs.zip'"
      ],
      "execution_count": null,
      "outputs": []
    },
    {
      "cell_type": "code",
      "metadata": {
        "id": "Iyaw_8GyUeRe",
        "colab_type": "code",
        "colab": {
          "base_uri": "https://localhost:8080/",
          "height": 34
        },
        "outputId": "26f44246-af4c-44dc-da07-88ade433e43f"
      },
      "source": [
        "# Load in the csv file which contains the data\n",
        "races = pd.read_csv('/content/content/My Drive/TdF/Profiles/races_to_classify.csv', delimiter=';')\n",
        "# Races to classify is every race without a profile_icon, which is p0\n",
        "races = races[races['profile_icon'] == 'p0']\n",
        "races.shape"
      ],
      "execution_count": null,
      "outputs": [
        {
          "output_type": "execute_result",
          "data": {
            "text/plain": [
              "(136, 8)"
            ]
          },
          "metadata": {
            "tags": []
          },
          "execution_count": 13
        }
      ]
    },
    {
      "cell_type": "code",
      "metadata": {
        "id": "gm8ebBc5nHqP",
        "colab_type": "code",
        "colab": {
          "base_uri": "https://localhost:8080/",
          "height": 52
        },
        "outputId": "1b17d144-4c16-4fa3-bad9-f421924de82d"
      },
      "source": [
        "# There are some corrupt images that are not able to be transformed, therefore remove these\n",
        "test_transform = data_transforms\n",
        "ind_errors = []\n",
        "for ind, row in races.iterrows():\n",
        "  try:\n",
        "    im = Image.open(row['img_name'])\n",
        "    test = test_transform(im)\n",
        "  except Exception as e:\n",
        "    print(e)\n",
        "    ind_errors.append(ind)\n",
        "\n",
        "races = races.drop(ind_errors)\n",
        "races.shape"
      ],
      "execution_count": null,
      "outputs": [
        {
          "output_type": "stream",
          "text": [
            "cannot identify image file 'imgs/0race-tour-of-austria-2013-stage-3.jpg-large'\n"
          ],
          "name": "stdout"
        },
        {
          "output_type": "execute_result",
          "data": {
            "text/plain": [
              "(135, 8)"
            ]
          },
          "metadata": {
            "tags": []
          },
          "execution_count": 14
        }
      ]
    },
    {
      "cell_type": "code",
      "metadata": {
        "id": "O849PIKcsg-0",
        "colab_type": "code",
        "colab": {}
      },
      "source": [
        "#Change the class strings to numbers\n",
        "class_dict = {'p0': 0}\n",
        "races['profile_icon'] = races['profile_icon'].map(class_dict)"
      ],
      "execution_count": null,
      "outputs": []
    },
    {
      "cell_type": "code",
      "metadata": {
        "id": "2Uv3QbjTsoOn",
        "colab_type": "code",
        "colab": {
          "base_uri": "https://localhost:8080/",
          "height": 319
        },
        "outputId": "055df2e5-6610-449e-c979-fce62d08ba48"
      },
      "source": [
        "plt.hist(races['profile_icon'])"
      ],
      "execution_count": null,
      "outputs": [
        {
          "output_type": "execute_result",
          "data": {
            "text/plain": [
              "(array([  0.,   0.,   0.,   0.,   0., 135.,   0.,   0.,   0.,   0.]),\n",
              " array([-0.5, -0.4, -0.3, -0.2, -0.1,  0. ,  0.1,  0.2,  0.3,  0.4,  0.5]),\n",
              " <a list of 10 Patch objects>)"
            ]
          },
          "metadata": {
            "tags": []
          },
          "execution_count": 16
        },
        {
          "output_type": "display_data",
          "data": {
            "image/png": "[encoded data removed]",
            "text/plain": [
              "<Figure size 432x288 with 1 Axes>"
            ]
          },
          "metadata": {
            "tags": [],
            "needs_background": "light"
          }
        }
      ]
    },
    {
      "cell_type": "code",
      "metadata": {
        "id": "CoN7AkQ8uyGD",
        "colab_type": "code",
        "colab": {}
      },
      "source": [
        "# Reset index\n",
        "races = races.reset_index()"
      ],
      "execution_count": null,
      "outputs": []
    },
    {
      "cell_type": "code",
      "metadata": {
        "id": "qB0EtNMxwE0U",
        "colab_type": "code",
        "colab": {}
      },
      "source": [
        "# Copy dataframe race\n",
        "pred_races = races.copy()"
      ],
      "execution_count": null,
      "outputs": []
    },
    {
      "cell_type": "markdown",
      "metadata": {
        "id": "9AKbNQdAog-W",
        "colab_type": "text"
      },
      "source": [
        "## Load the model"
      ]
    },
    {
      "cell_type": "code",
      "metadata": {
        "id": "P6CGFMuOoIZl",
        "colab_type": "code",
        "colab": {}
      },
      "source": [
        "# Create a new model and send it to GPU\n",
        "model = new_model()\n",
        "model.to(device)\n",
        "trained_model = '/content/content/My Drive/TdF/Profiles/more_data/profile_classifier.pt'\n",
        "# Load the trained model\n",
        "model.load_state_dict(torch.load(trained_model))\n",
        "model.eval()\n",
        "pass # No output"
      ],
      "execution_count": null,
      "outputs": []
    },
    {
      "cell_type": "code",
      "metadata": {
        "id": "sWgHwnAypHG6",
        "colab_type": "code",
        "colab": {}
      },
      "source": [
        "# Create the dataset\n",
        "predict_set = ProfilesDataset(df=races, root_dir='', y_column='profile_icon', transform=data_transforms)"
      ],
      "execution_count": null,
      "outputs": []
    },
    {
      "cell_type": "code",
      "metadata": {
        "id": "7QU11pM7sZG0",
        "colab_type": "code",
        "colab": {
          "base_uri": "https://localhost:8080/",
          "height": 451
        },
        "outputId": "1aafd810-5b23-4060-9c2b-7791ace354ca"
      },
      "source": [
        "predict_set[0]"
      ],
      "execution_count": null,
      "outputs": [
        {
          "output_type": "execute_result",
          "data": {
            "text/plain": [
              "{'df_idx': 0,\n",
              " 'image': tensor([[[2.2489, 2.2489, 2.2489,  ..., 2.2489, 2.2489, 2.2489],\n",
              "          [2.2489, 2.2489, 2.2489,  ..., 2.2489, 2.2489, 2.2489],\n",
              "          [2.2489, 2.2489, 2.2489,  ..., 2.2489, 2.2489, 2.2489],\n",
              "          ...,\n",
              "          [2.2489, 2.2489, 2.2489,  ..., 2.2489, 2.2489, 2.2489],\n",
              "          [2.2489, 2.2489, 2.2489,  ..., 2.2489, 2.2489, 2.2489],\n",
              "          [2.2489, 2.2489, 2.2489,  ..., 2.2489, 2.2489, 2.2489]],\n",
              " \n",
              "         [[2.4286, 2.4286, 2.4286,  ..., 2.4286, 2.4286, 2.4286],\n",
              "          [2.4286, 2.4286, 2.4286,  ..., 2.4286, 2.4286, 2.4286],\n",
              "          [2.4286, 2.4286, 2.4286,  ..., 2.4286, 2.4286, 2.4286],\n",
              "          ...,\n",
              "          [2.4286, 2.4286, 2.4286,  ..., 2.4286, 2.4286, 2.4286],\n",
              "          [2.4286, 2.4286, 2.4286,  ..., 2.4286, 2.4286, 2.4286],\n",
              "          [2.4286, 2.4286, 2.4286,  ..., 2.4286, 2.4286, 2.4286]],\n",
              " \n",
              "         [[2.6400, 2.6400, 2.6400,  ..., 2.6400, 2.6400, 2.6400],\n",
              "          [2.6400, 2.6400, 2.6400,  ..., 2.6400, 2.6400, 2.6400],\n",
              "          [2.6400, 2.6400, 2.6400,  ..., 2.6400, 2.6400, 2.6400],\n",
              "          ...,\n",
              "          [2.6400, 2.6400, 2.6400,  ..., 2.6400, 2.6400, 2.6400],\n",
              "          [2.6400, 2.6400, 2.6400,  ..., 2.6400, 2.6400, 2.6400],\n",
              "          [2.6400, 2.6400, 2.6400,  ..., 2.6400, 2.6400, 2.6400]]]),\n",
              " 'profile_icon': tensor(0)}"
            ]
          },
          "metadata": {
            "tags": []
          },
          "execution_count": 21
        }
      ]
    },
    {
      "cell_type": "code",
      "metadata": {
        "id": "94uHdV4Ms3Cq",
        "colab_type": "code",
        "colab": {}
      },
      "source": [
        "# Load the data set in the loader\n",
        "predict_loader = torch.utils.data.DataLoader(predict_set, batch_size=1, shuffle=False, num_workers=2)"
      ],
      "execution_count": null,
      "outputs": []
    },
    {
      "cell_type": "code",
      "metadata": {
        "id": "WE17-Pnls_ih",
        "colab_type": "code",
        "colab": {}
      },
      "source": [
        "# Predict profile_icon and load in the dataframe\n",
        "for i, data in enumerate(predict_loader, 0):\n",
        "  input = data['image'].to(device)\n",
        "  df_idx = data['df_idx']\n",
        "\n",
        "  output = model(input)\n",
        "  _, predicted = torch.max(output.data, 1)\n",
        "  pred_races.loc[df_idx.item(), 'profile_icon'] = predicted.item()"
      ],
      "execution_count": null,
      "outputs": []
    },
    {
      "cell_type": "code",
      "metadata": {
        "id": "A-0orfgHukwx",
        "colab_type": "code",
        "colab": {
          "base_uri": "https://localhost:8080/",
          "height": 310
        },
        "outputId": "6c3182c1-ee39-4060-c6f5-af79526f5134"
      },
      "source": [
        "pred_races.head(5)"
      ],
      "execution_count": null,
      "outputs": [
        {
          "output_type": "execute_result",
          "data": {
            "text/html": [
              "<div>\n",
              "<style scoped>\n",
              "    .dataframe tbody tr th:only-of-type {\n",
              "        vertical-align: middle;\n",
              "    }\n",
              "\n",
              "    .dataframe tbody tr th {\n",
              "        vertical-align: top;\n",
              "    }\n",
              "\n",
              "    .dataframe thead th {\n",
              "        text-align: right;\n",
              "    }\n",
              "</style>\n",
              "<table border=\"1\" class=\"dataframe\">\n",
              "  <thead>\n",
              "    <tr style=\"text-align: right;\">\n",
              "      <th></th>\n",
              "      <th>index</th>\n",
              "      <th>Unnamed: 0</th>\n",
              "      <th>Unnamed: 0.1</th>\n",
              "      <th>race</th>\n",
              "      <th>profile_score</th>\n",
              "      <th>point_scale</th>\n",
              "      <th>img_name</th>\n",
              "      <th>profile_icon</th>\n",
              "      <th>location</th>\n",
              "    </tr>\n",
              "  </thead>\n",
              "  <tbody>\n",
              "    <tr>\n",
              "      <th>0</th>\n",
              "      <td>0</td>\n",
              "      <td>172</td>\n",
              "      <td>172</td>\n",
              "      <td>race/etoile-de-besseges/2020/stage-2</td>\n",
              "      <td>0</td>\n",
              "      <td>2.1.Stage</td>\n",
              "      <td>imgs/0race-etoile-de-besseges-2020-stage-2.jpg</td>\n",
              "      <td>2</td>\n",
              "      <td>Alés</td>\n",
              "    </tr>\n",
              "    <tr>\n",
              "      <th>1</th>\n",
              "      <td>1</td>\n",
              "      <td>173</td>\n",
              "      <td>173</td>\n",
              "      <td>race/etoile-de-besseges/2020/stage-3</td>\n",
              "      <td>0</td>\n",
              "      <td>2.1.Stage</td>\n",
              "      <td>imgs/0race-etoile-de-besseges-2020-stage-3.jpg</td>\n",
              "      <td>1</td>\n",
              "      <td>Givors</td>\n",
              "    </tr>\n",
              "    <tr>\n",
              "      <th>2</th>\n",
              "      <td>2</td>\n",
              "      <td>174</td>\n",
              "      <td>174</td>\n",
              "      <td>race/etoile-de-besseges/2020/stage-4</td>\n",
              "      <td>0</td>\n",
              "      <td>2.1.Stage</td>\n",
              "      <td>imgs/0race-etoile-de-besseges-2020-stage-4.jpg</td>\n",
              "      <td>4</td>\n",
              "      <td>NaN</td>\n",
              "    </tr>\n",
              "    <tr>\n",
              "      <th>3</th>\n",
              "      <td>3</td>\n",
              "      <td>4023</td>\n",
              "      <td>4023</td>\n",
              "      <td>race/tour-of-turkey/2015/stage-7</td>\n",
              "      <td>0</td>\n",
              "      <td>2.HC.Stage</td>\n",
              "      <td>imgs/0race-tour-of-turkey-2015-stage-7.png</td>\n",
              "      <td>0</td>\n",
              "      <td>NaN</td>\n",
              "    </tr>\n",
              "    <tr>\n",
              "      <th>4</th>\n",
              "      <td>4</td>\n",
              "      <td>4025</td>\n",
              "      <td>4025</td>\n",
              "      <td>race/tour-de-yorkshire/2015/stage-1</td>\n",
              "      <td>0</td>\n",
              "      <td>2.1.Stage</td>\n",
              "      <td>imgs/0race-tour-de-yorkshire-2015-stage-1.jpg</td>\n",
              "      <td>1</td>\n",
              "      <td>NaN</td>\n",
              "    </tr>\n",
              "  </tbody>\n",
              "</table>\n",
              "</div>"
            ],
            "text/plain": [
              "   index  Unnamed: 0  ...  profile_icon location\n",
              "0      0         172  ...             2     Alés\n",
              "1      1         173  ...             1   Givors\n",
              "2      2         174  ...             4      NaN\n",
              "3      3        4023  ...             0      NaN\n",
              "4      4        4025  ...             1      NaN\n",
              "\n",
              "[5 rows x 9 columns]"
            ]
          },
          "metadata": {
            "tags": []
          },
          "execution_count": 24
        }
      ]
    },
    {
      "cell_type": "code",
      "metadata": {
        "id": "43ejh_6ZugBc",
        "colab_type": "code",
        "colab": {
          "base_uri": "https://localhost:8080/",
          "height": 317
        },
        "outputId": "d957b0fa-7cfc-4e79-d326-ef5615a9c822"
      },
      "source": [
        "plt.hist(pred_races['profile_icon'])"
      ],
      "execution_count": null,
      "outputs": [
        {
          "output_type": "execute_result",
          "data": {
            "text/plain": [
              "(array([30.,  0., 32.,  0.,  0., 14.,  0., 27.,  0., 32.]),\n",
              " array([0. , 0.4, 0.8, 1.2, 1.6, 2. , 2.4, 2.8, 3.2, 3.6, 4. ]),\n",
              " <a list of 10 Patch objects>)"
            ]
          },
          "metadata": {
            "tags": []
          },
          "execution_count": 25
        },
        {
          "output_type": "display_data",
          "data": {
            "image/png": "[encoded data removed]",
            "text/plain": [
              "<Figure size 432x288 with 1 Axes>"
            ]
          },
          "metadata": {
            "tags": [],
            "needs_background": "light"
          }
        }
      ]
    },
    {
      "cell_type": "code",
      "metadata": {
        "id": "TwfNhR9ZwjiV",
        "colab_type": "code",
        "colab": {}
      },
      "source": [
        "# Save the predictions in a csv file\n",
        "pred_races.to_csv('/content/content/My Drive/TdF/Profiles/predicted_races.csv', sep=';')"
      ],
      "execution_count": null,
      "outputs": []
    }
  ]
}